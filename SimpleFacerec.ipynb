{
 "cells": [
  {
   "cell_type": "code",
   "execution_count": 1,
   "id": "ed661dc1",
   "metadata": {
    "scrolled": false
   },
   "outputs": [],
   "source": [
    "import face_recognition\n",
    "import cv2\n",
    "import os\n",
    "import glob\n",
    "import numpy as np\n",
    "   "
   ]
  },
  {
   "cell_type": "code",
   "execution_count": 2,
   "id": "7ce9485d",
   "metadata": {},
   "outputs": [],
   "source": [
    "class SimpleFacerec:\n",
    "    def __init__(self):\n",
    "        self.known_face_encodings = []\n",
    "        self.known_face_names = []\n",
    "        self.frame_resizing = 0.25  # Resize frame for faster processing\n",
    "\n",
    "    def load_encoding_images(self, images_path):\n",
    "        \"\"\"\n",
    "        Load images from the path and encode faces\n",
    "        :param images_path: Path to the folder with images\n",
    "        \"\"\"\n",
    "        # Collect image paths\n",
    "        images_path = glob.glob(os.path.join(images_path, \"*.*\"))\n",
    "        print(f\"{len(images_path)} encoding images found.\")\n",
    "\n",
    "        # Process each image\n",
    "        for img_path in images_path:\n",
    "            img = cv2.imread(img_path)\n",
    "            rgb_img = cv2.cvtColor(img, cv2.COLOR_BGR2RGB)\n",
    "\n",
    "            # Extract filename (without extension) as the name label\n",
    "            filename = os.path.splitext(os.path.basename(img_path))[0]\n",
    "\n",
    "            # Encode the face\n",
    "            try:\n",
    "                img_encoding = face_recognition.face_encodings(rgb_img)[0]\n",
    "                self.known_face_encodings.append(img_encoding)\n",
    "                self.known_face_names.append(filename)\n",
    "                print(f\"Encoded {filename}\")\n",
    "            except IndexError:\n",
    "                print(f\"Face not detected in {filename}, skipping.\")\n",
    "                \n",
    "        print(\"Encoding images loaded.\")\n",
    "\n",
    "    def detect_known_faces(self, frame):\n",
    "        \"\"\"\n",
    "        Detect and recognize known faces in the given frame\n",
    "        :param frame: The video frame to process\n",
    "        :return: Face locations and their corresponding names\n",
    "        \"\"\"\n",
    "        # Resize frame to improve processing speed\n",
    "        small_frame = cv2.resize(frame, (0, 0), fx=self.frame_resizing, fy=self.frame_resizing)\n",
    "        rgb_small_frame = cv2.cvtColor(small_frame, cv2.COLOR_BGR2RGB)\n",
    "\n",
    "        # Find face locations and encodings in the current frame\n",
    "        face_locations = face_recognition.face_locations(rgb_small_frame)\n",
    "        face_encodings = face_recognition.face_encodings(rgb_small_frame, face_locations)\n",
    "\n",
    "        face_names = []\n",
    "        for face_encoding in face_encodings:\n",
    "            # Compare face encodings with known faces\n",
    "            matches = face_recognition.compare_faces(self.known_face_encodings, face_encoding)\n",
    "            name = \"Unknown\"\n",
    "\n",
    "            # Find the best match\n",
    "            face_distances = face_recognition.face_distance(self.known_face_encodings, face_encoding)\n",
    "            best_match_index = np.argmin(face_distances)\n",
    "            if matches[best_match_index]:\n",
    "                name = self.known_face_names[best_match_index]\n",
    "                \n",
    "            face_names.append(name)\n",
    "        \n",
    "        # Scale back face locations to match the original frame size\n",
    "        face_locations = (np.array(face_locations) / self.frame_resizing).astype(int)\n",
    "        \n",
    "        return face_locations, face_names\n"
   ]
  }
 ],
 "metadata": {
  "kernelspec": {
   "display_name": "Python 3 (ipykernel)",
   "language": "python",
   "name": "python3"
  },
  "language_info": {
   "codemirror_mode": {
    "name": "ipython",
    "version": 3
   },
   "file_extension": ".py",
   "mimetype": "text/x-python",
   "name": "python",
   "nbconvert_exporter": "python",
   "pygments_lexer": "ipython3",
   "version": "3.9.12"
  }
 },
 "nbformat": 4,
 "nbformat_minor": 5
}
