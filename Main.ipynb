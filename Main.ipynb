{
 "cells": [
  {
   "cell_type": "code",
   "execution_count": 1,
   "id": "bbdeb42e",
   "metadata": {},
   "outputs": [],
   "source": [
    "from SimpleFacerec import SimpleFacerec\n",
    "import cv2\n",
    "import numpy as np"
   ]
  },
  {
   "cell_type": "code",
   "execution_count": 2,
   "id": "54b23f88",
   "metadata": {},
   "outputs": [
    {
     "name": "stdout",
     "output_type": "stream",
     "text": [
      "2 encoding images found.\n",
      "Encoded Ahmed Balta\n",
      "Encoded ozil\n",
      "Encoding images loaded.\n"
     ]
    }
   ],
   "source": [
    "# Initialize the SimpleFacerec and load images for encoding\n",
    "sfr = SimpleFacerec()\n",
    "sfr.load_encoding_images(\"Images_path\")\n",
    "\n",
    "# Load Camera\n",
    "cap = cv2.VideoCapture(0)"
   ]
  },
  {
   "cell_type": "code",
   "execution_count": 3,
   "id": "2f1f320e",
   "metadata": {},
   "outputs": [],
   "source": [
    "while True:\n",
    "    # Read frame from the camera\n",
    "    ret, frame = cap.read()\n",
    "    if not ret:\n",
    "        break  # Break if the camera frame is not read correctly\n",
    "\n",
    "    # Detect Faces\n",
    "    face_locations, face_names = sfr.detect_known_faces(frame)\n",
    "    for face_loc, name in zip(face_locations, face_names):\n",
    "        y1, x2, y2, x1 = face_loc[0], face_loc[1], face_loc[2], face_loc[3]\n",
    "\n",
    "        # Display name and bounding box around the face\n",
    "        cv2.putText(frame, name, (x1, y1 - 10), cv2.FONT_HERSHEY_DUPLEX, 1, (0, 0, 200), 2)\n",
    "        cv2.rectangle(frame, (x1, y1), (x2, y2), (0, 0, 200), 4)\n",
    "\n",
    "    # Show the frame\n",
    "    cv2.imshow(\"Frame\", frame)\n",
    "\n",
    "    # Break loop on 'ESC' key press\n",
    "    key = cv2.waitKey(1)\n",
    "    if key == 27:  # 27 is the ESC key\n",
    "        break\n",
    "    # Release resources and close the window\n",
    "cap.release()\n",
    "cv2.destroyAllWindows()"
   ]
  }
 ],
 "metadata": {
  "kernelspec": {
   "display_name": "Python 3 (ipykernel)",
   "language": "python",
   "name": "python3"
  },
  "language_info": {
   "codemirror_mode": {
    "name": "ipython",
    "version": 3
   },
   "file_extension": ".py",
   "mimetype": "text/x-python",
   "name": "python",
   "nbconvert_exporter": "python",
   "pygments_lexer": "ipython3",
   "version": "3.9.12"
  }
 },
 "nbformat": 4,
 "nbformat_minor": 5
}
